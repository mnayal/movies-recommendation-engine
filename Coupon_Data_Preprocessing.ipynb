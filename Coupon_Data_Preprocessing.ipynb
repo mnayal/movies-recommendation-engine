{
 "cells": [
  {
   "cell_type": "code",
   "execution_count": null,
   "metadata": {},
   "outputs": [],
   "source": [
    "import numpy as np\n",
    "import pandas as pd\n",
    "import matplotlib.pyplot as plt\n",
    "from pymongo import MongoClient"
   ]
  },
  {
   "cell_type": "code",
   "execution_count": null,
   "metadata": {},
   "outputs": [],
   "source": [
    "c = MongoClient('localhost', 27017)\n",
    "db = c.offers"
   ]
  },
  {
   "cell_type": "code",
   "execution_count": null,
   "metadata": {},
   "outputs": [],
   "source": [
    "offers = []\n",
    "collection = db.offer\n",
    "for coupons in collection.find():\n",
    "    offers.append(coupons)"
   ]
  },
  {
   "cell_type": "code",
   "execution_count": null,
   "metadata": {},
   "outputs": [],
   "source": [
    "offers_df = pd.DataFrame(offers)"
   ]
  },
  {
   "cell_type": "code",
   "execution_count": null,
   "metadata": {},
   "outputs": [],
   "source": [
    "offers_df.locationKeywords = offers_df.locationKeywords.apply(lambda y: [{'keyword': 'facet-unknown'}] if len(y)==0 else y)\n",
    "facet = []\n",
    "redemption_task = []\n",
    "categories = []\n",
    "store_name = []\n",
    "description = [] \n",
    "lat = []\n",
    "lon = []\n",
    "\n",
    "for i in range(len(offers_df)):\n",
    "    facet.append(offers_df.locationKeywords[i][0]['keyword'])\n",
    "    store_name.append(offers_df.offerStore[i]['name'])\n",
    "    lat.append(offers_df.offerStore[i][\"physicalLocation\"]['geolocation']['lat'])\n",
    "    lon.append(offers_df.offerStore[i][\"physicalLocation\"]['geolocation']['lon'])\n",
    "    \n",
    "    if len(offers_df.redemptionMethods[i]) == 1:\n",
    "        if \"instore_print\" in offers_df.redemptionMethods[i]:\n",
    "            redemption_task.append('hard')\n",
    "        if \"instore\" in offers_df.redemptionMethods[i]:\n",
    "            redemption_task.append('medium')\n",
    "        if \"call\" in offers_df.redemptionMethods[i]:\n",
    "            redemption_task.append('easy')\n",
    "    elif len(offers_df.redemptionMethods[i]) == 2:\n",
    "        if \"call\" not in offers_df.redemptionMethods[i]:\n",
    "            redemption_task.append('medium')\n",
    "        else:\n",
    "            redemption_task.append(\"easy\")\n",
    "    else:\n",
    "        redemption_task.append('easy')\n",
    "    \n",
    "    try:\n",
    "        categories.append(offers_df.categories[i][0]['categoryParentName'])\n",
    "    except KeyError:\n",
    "        categories.append(offers_df.categories[i][0]['categoryName'])\n",
    "        \n",
    "    try:\n",
    "        description.append(offers_df.offerStore[i][\"description\"])\n",
    "    except KeyError:\n",
    "        description.append(\"Unavailable\")\n",
    "        \n",
    "    "
   ]
  },
  {
   "cell_type": "code",
   "execution_count": null,
   "metadata": {},
   "outputs": [],
   "source": [
    "offers_df = offers_df.drop(['_class','categories', 'additionalProperties','facets', 'links', 'startedOn','expiresOn', 'logoUrl', 'offerKey','redemptionMethods', 'offerSet', 'offerGroupKey', 'offerStore', 'locationKeywords', 'nationalOffer'], axis=1)"
   ]
  },
  {
   "cell_type": "code",
   "execution_count": null,
   "metadata": {},
   "outputs": [],
   "source": [
    "offers_df['facet'] = pd.Series(facet, index=offers_df.index)\n",
    "offers_df['redemption_task'] = pd.Series(redemption_task, index=offers_df.index)\n",
    "offers_df['categories'] = pd.Series(categories, index=offers_df.index)\n",
    "offers_df['store_name'] = pd.Series(store_name, index=offers_df.index)\n",
    "offers_df['description'] = pd.Series(description, index=offers_df.index)\n",
    "offers_df['latitude'] = pd.Series(lat, index=offers_df.index)\n",
    "offers_df['longitude'] = pd.Series(lon, index=offers_df.index)"
   ]
  },
  {
   "cell_type": "code",
   "execution_count": null,
   "metadata": {},
   "outputs": [],
   "source": [
    "offers_df"
   ]
  },
  {
   "cell_type": "code",
   "execution_count": null,
   "metadata": {},
   "outputs": [],
   "source": [
    "offers_df.keys()"
   ]
  },
  {
   "cell_type": "code",
   "execution_count": null,
   "metadata": {},
   "outputs": [],
   "source": [
    "offers_text_data = offers_df.drop(['discountType', 'discountValue', 'maximumAward', 'minimumPurchase', 'offerValue', 'promotionCode','savingsAmount', 'usesPerPeriod', 'redemption_task', 'categories', 'latitude', 'longitude'], axis=1)"
   ]
  },
  {
   "cell_type": "code",
   "execution_count": null,
   "metadata": {},
   "outputs": [],
   "source": [
    "a = list(offers_text_data)\n",
    "a.remove(\"_id\")\n",
    "\n",
    "offers_numeric_data = offers_df.drop(a, axis=1)"
   ]
  },
  {
   "cell_type": "code",
   "execution_count": null,
   "metadata": {},
   "outputs": [],
   "source": [
    "offers_text_data.head()"
   ]
  },
  {
   "cell_type": "code",
   "execution_count": null,
   "metadata": {},
   "outputs": [],
   "source": [
    "offers_numeric_data.head()"
   ]
  },
  {
   "cell_type": "code",
   "execution_count": null,
   "metadata": {},
   "outputs": [],
   "source": []
  },
  {
   "cell_type": "code",
   "execution_count": null,
   "metadata": {},
   "outputs": [],
   "source": []
  },
  {
   "cell_type": "code",
   "execution_count": null,
   "metadata": {},
   "outputs": [],
   "source": []
  }
 ],
 "metadata": {
  "kernelspec": {
   "display_name": "Python 3",
   "language": "python",
   "name": "python3"
  },
  "language_info": {
   "codemirror_mode": {
    "name": "ipython",
    "version": 3
   },
   "file_extension": ".py",
   "mimetype": "text/x-python",
   "name": "python",
   "nbconvert_exporter": "python",
   "pygments_lexer": "ipython3",
   "version": "3.7.3"
  }
 },
 "nbformat": 4,
 "nbformat_minor": 2
}
