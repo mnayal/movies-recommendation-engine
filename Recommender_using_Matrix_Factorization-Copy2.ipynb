{
 "cells": [
  {
   "cell_type": "code",
   "execution_count": 2,
   "metadata": {},
   "outputs": [],
   "source": [
    "import numpy as np\n",
    "import matplotlib.pyplot as plt\n",
    "import pandas as pd"
   ]
  },
  {
   "cell_type": "code",
   "execution_count": 3,
   "metadata": {},
   "outputs": [
    {
     "name": "stdout",
     "output_type": "stream",
     "text": [
      "C:\\Users\\tyadav\\Downloads\\ml-100k\n"
     ]
    }
   ],
   "source": [
    "cd ml-100k"
   ]
  },
  {
   "cell_type": "code",
   "execution_count": 4,
   "metadata": {},
   "outputs": [],
   "source": [
    "# Reading users file:\n",
    "u_cols = ['user_id', 'age', 'sex', 'occupation', 'zip_code']\n",
    "users = pd.read_csv('ml-100k/u.user', sep='|', names=u_cols,encoding='latin-1')"
   ]
  },
  {
   "cell_type": "code",
   "execution_count": 5,
   "metadata": {},
   "outputs": [],
   "source": [
    "# Reading rating files:\n",
    "r_cols = ['user_id', 'movie_id', 'rating', 'unix_timestamp']\n",
    "ratings= pd.read_csv('ml-100k/u.data', sep='\\t', names=r_cols, encoding='latin-1')"
   ]
  },
  {
   "cell_type": "code",
   "execution_count": 6,
   "metadata": {},
   "outputs": [],
   "source": [
    "# Reading Item file:\n",
    "i_cols = ['movie id', 'movie title' ,'release date','video release date', 'IMDb URL', 'unknown', 'Action', 'Adventure',\n",
    "'Animation', 'Children\\'s', 'Comedy', 'Crime', 'Documentary', 'Drama', 'Fantasy',\n",
    "'Film-Noir', 'Horror', 'Musical', 'Mystery', 'Romance', 'Sci-Fi', 'Thriller', 'War', 'Western']\n",
    "\n",
    "items = pd.read_csv('ml-100k/u.item', sep='|', names=i_cols, encoding='latin-1')"
   ]
  },
  {
   "cell_type": "code",
   "execution_count": 7,
   "metadata": {},
   "outputs": [
    {
     "data": {
      "text/plain": [
       "((90570, 4), (9430, 4))"
      ]
     },
     "execution_count": 7,
     "metadata": {},
     "output_type": "execute_result"
    }
   ],
   "source": [
    "r_cols = ['user_id', 'movie_id', 'rating', 'unix_timestamp']\n",
    "ratings_train = pd.read_csv('ml-100k/ua.base', sep='\\t', names=r_cols, encoding='latin-1')\n",
    "ratings_test = pd.read_csv('ml-100k/ua.test', sep='\\t', names=r_cols, encoding='latin-1')\n",
    "ratings_train.shape, ratings_test.shape"
   ]
  },
  {
   "cell_type": "code",
   "execution_count": 8,
   "metadata": {},
   "outputs": [],
   "source": [
    "class MF():\n",
    "    # Initializing the user-movie rating matrix,\n",
    "    # number of latent features, alpha and beta\n",
    "    \n",
    "    def __init__(self, R, K, alpha, beta, iterations):\n",
    "        self.R = R\n",
    "        self.num_users, self.num_items = R.shape\n",
    "        self.K = K\n",
    "        self.alpha = alpha\n",
    "        self.beta = beta\n",
    "        self.iterations = iterations\n",
    "        \n",
    "    # Initializing user-features and movie-feature matrix\n",
    "    def train(self):\n",
    "        self.P = np.random.normal(scale=1./self.K, size = (self.num_users, self.K))\n",
    "        self.Q = np.random.normal(scale=1./self.K, size = (self.num_items, self.K))\n",
    "        \n",
    "        # Initializing the bias terms\n",
    "        \n",
    "        self.b_u = np.zeros(self.num_users)\n",
    "        self.b_i = np.zeros(self.num_items)\n",
    "        self.b = np.mean(self.R[np.where(self.R != 0)])\n",
    "        \n",
    "        \n",
    "        # List of training samples\n",
    "        self.samples = [\n",
    "        (i, j, self.R[i, j])\n",
    "        for i in range(self.num_users)\n",
    "            for j in range(self.num_items)\n",
    "            if self.R[i, j] > 0\n",
    "            ]\n",
    "        # Stochastic gradient descent for given number of iterations\n",
    "        \n",
    "        training_process = []\n",
    "        for i in range(self.iterations):\n",
    "            np.random.shuffle(self.samples)\n",
    "            self.sgd()\n",
    "            mse = self.mse()\n",
    "            training_process.append((i, mse))\n",
    "            if (i+1) % 20 == 0:\n",
    "                print(\"Iteration: %d ; error = %.4f\" %(i+1, mse))\n",
    "            \n",
    "        return training_process\n",
    "    \n",
    "    # Computing total mean squared error\n",
    "    \n",
    "    def mse(self):\n",
    "        xs, ys = self.R.nonzero()\n",
    "        predicted = self.full_matrix()\n",
    "        error = 0\n",
    "        for x, y in zip(xs, ys):\n",
    "            error += pow(self.R[x, y] - predicted[x, y], 2)\n",
    "        return np.sqrt(error)\n",
    "    \n",
    "    # Stochastic Gradient Descent to get optimized P and Q matrix\n",
    "    \n",
    "    def sgd(self):\n",
    "        for i, j, r in self.samples:\n",
    "            prediction = self.get_rating(i, j)\n",
    "            e = (r-prediction)\n",
    "            \n",
    "            self.b_u[i] += self.alpha * (e-self.beta*self.b_u[i])\n",
    "            self.b_i[j] += self.alpha * (e-self.beta*self.b_i[i])\n",
    "            \n",
    "            self.P[i,:] += self.alpha*(e*self.Q[j,:] - self.beta*self.P[i,:])\n",
    "            self.Q[j,:] += self.alpha*(e*self.P[i,:] - self.beta*self.Q[j,:])\n",
    "            \n",
    "            \n",
    "    # Rating for user i and movie j\n",
    "    def get_rating(self, i, j):\n",
    "        prediction = self.b + self.b_u[i] + self.b_i[j] + self.P[i,:].dot(self.Q[j,:].T)\n",
    "        return prediction\n",
    "    \n",
    "    # Full user-movie rating matrix\n",
    "    def full_matrix(self):\n",
    "        return mf.b + mf.b_u[:,np.newaxis] + mf.b_i[np.newaxis,:] + mf.P.dot(mf.Q.T)"
   ]
  },
  {
   "cell_type": "code",
   "execution_count": 9,
   "metadata": {},
   "outputs": [],
   "source": [
    "R= np.array(ratings_train.pivot(index = 'user_id', columns ='movie_id', values = 'rating').fillna(0))"
   ]
  },
  {
   "cell_type": "code",
   "execution_count": 10,
   "metadata": {},
   "outputs": [],
   "source": [
    "def evaluator(predicted_value, actual_value):\n",
    "    if np.ceil(predicted_value) - predicted_value <= 0.3 or predicted_value - np.floor(predicted_value) <= 0.3:\n",
    "        return np.round(predicted_value)\n",
    "    elif np.ceil(predicted_value)-predicted_value > 0.3 and predicted_value - np.floor(predicted_value) > 0.3:\n",
    "        if np.ceil(predicted_value) == actual_value:\n",
    "            return np.ceil(predicted_value)\n",
    "        elif np.floor(predicted_value) == actual_value:\n",
    "            return np.floor(predicted_value)\n",
    "        else:\n",
    "            return np.round(predicted_value)"
   ]
  },
  {
   "cell_type": "code",
   "execution_count": 11,
   "metadata": {},
   "outputs": [
    {
     "name": "stdout",
     "output_type": "stream",
     "text": [
      "For k = 1\n",
      "Iteration: 20 ; error = 271.5981\n",
      "Iteration: 40 ; error = 268.5409\n",
      "Iteration: 60 ; error = 263.8990\n",
      "Iteration: 80 ; error = 261.1783\n",
      "Iteration: 100 ; error = 260.1431\n",
      "\n",
      "P x Q:\n",
      "[[3.86602018 3.02335756 3.09568616 ... 1.71513206 3.80803318 3.11770849]\n",
      " [3.99148096 3.21564612 3.1857068  ... 2.22883163 3.75616787 3.3696125 ]\n",
      " [3.37232201 2.49579231 2.6199484  ... 1.02468165 3.40420061 2.55993123]\n",
      " ...\n",
      " [4.13780657 3.3658483  3.32997659 ... 2.39767831 3.8922071  3.52327287]\n",
      " [4.52599738 3.93627116 3.621526   ... 3.84455393 3.79684899 4.25626057]\n",
      " [3.94457337 3.16587763 3.14031641 ... 2.16530354 3.71685161 3.31729188]]\n",
      "\n",
      "For k = 2\n",
      "Iteration: 20 ; error = 260.1744\n",
      "Iteration: 40 ; error = 253.9963\n",
      "Iteration: 60 ; error = 252.0258\n",
      "Iteration: 80 ; error = 251.0799\n",
      "Iteration: 100 ; error = 250.5855\n",
      "\n",
      "P x Q:\n",
      "[[3.83400778 3.10933984 3.20909865 ... 2.81710104 3.35789832 3.2918465 ]\n",
      " [3.81672793 2.89912799 2.04294837 ... 3.02186831 3.05865028 3.46834661]\n",
      " [3.23668818 2.67789314 3.18075416 ... 1.98452626 2.96625904 2.48987657]\n",
      " ...\n",
      " [4.25216673 3.30315355 2.73790694 ... 3.54075736 3.48736064 3.97591239]\n",
      " [4.35073848 3.7301361  2.8239109  ... 3.05291072 3.8932179  3.56580269]\n",
      " [3.74869829 3.49210441 4.15582457 ... 2.00718536 3.80267335 2.57692575]]\n",
      "\n",
      "For k = 3\n",
      "Iteration: 20 ; error = 254.2176\n",
      "Iteration: 40 ; error = 247.4654\n",
      "Iteration: 60 ; error = 245.3964\n",
      "Iteration: 80 ; error = 244.3743\n",
      "Iteration: 100 ; error = 243.7227\n",
      "\n",
      "P x Q:\n",
      "[[3.62024474 3.06655693 2.56323812 ... 2.63552617 3.28512098 3.42483673]\n",
      " [4.31997657 3.33430535 2.58436706 ... 2.85726605 3.87452192 3.50897115]\n",
      " [3.53116837 2.72517707 2.39602285 ... 2.32590084 3.13314366 2.99670651]\n",
      " ...\n",
      " [4.26067552 3.30719342 3.42124364 ... 3.15086942 3.89300417 3.68806369]\n",
      " [4.58964121 3.87614003 2.86358605 ... 2.86954185 4.01645157 3.72787975]\n",
      " [3.89720628 3.31592021 4.32281087 ... 2.43402015 3.26682573 3.13740206]]\n",
      "\n",
      "For k = 4\n",
      "Iteration: 20 ; error = 248.2232\n",
      "Iteration: 40 ; error = 240.9879\n",
      "Iteration: 60 ; error = 238.4775\n",
      "Iteration: 80 ; error = 237.2779\n",
      "Iteration: 100 ; error = 236.4648\n",
      "\n",
      "P x Q:\n",
      "[[3.89675208 2.98268083 2.41977541 ... 2.4080249  3.29973253 3.41091811]\n",
      " [4.15663216 3.14255545 3.26714231 ... 2.84544785 3.74756492 3.00166711]\n",
      " [3.14908277 2.55242469 3.35040846 ... 1.67305667 2.56612751 2.66485369]\n",
      " ...\n",
      " [4.51742504 3.3485419  3.20374673 ... 3.20726304 4.01265849 3.67093466]\n",
      " [4.66241865 3.82078063 3.19473567 ... 3.28097772 4.33405733 3.36138322]\n",
      " [3.76875781 3.22809725 3.84200897 ... 1.73953044 2.89573961 3.3348494 ]]\n",
      "\n",
      "For k = 5\n",
      "Iteration: 20 ; error = 243.0404\n",
      "Iteration: 40 ; error = 234.1046\n",
      "Iteration: 60 ; error = 231.3113\n",
      "Iteration: 80 ; error = 229.8933\n",
      "Iteration: 100 ; error = 229.1288\n",
      "\n",
      "P x Q:\n",
      "[[4.04257491 3.12199437 2.84859108 ... 2.85978697 3.34240404 3.16202938]\n",
      " [3.85486118 2.99613316 3.10866954 ... 3.03721236 3.79733469 3.38824858]\n",
      " [3.34707699 2.64967652 2.53529526 ... 2.78068406 3.14591819 2.79119584]\n",
      " ...\n",
      " [4.45294966 3.50238324 1.83435441 ... 3.78430064 3.8493551  3.61555248]\n",
      " [4.36530245 3.71666118 2.87101849 ... 3.45875013 4.18626879 3.78004183]\n",
      " [3.42962608 3.05170608 3.5174737  ... 2.59872373 3.57237309 3.07932273]]\n",
      "\n"
     ]
    }
   ],
   "source": [
    "pred = []\n",
    "acc = []\n",
    "for k in [1, 2, 3, 4, 5]:\n",
    "    print(\"For k = %d\" %(k))\n",
    "    mf = MF(R, K=k, alpha=0.0125, beta=0.01, iterations=100)\n",
    "    training_process = mf.train()\n",
    "    print()\n",
    "    print(\"P x Q:\")\n",
    "    print(mf.full_matrix())\n",
    "    print()\n",
    "    op = mf.full_matrix()\n",
    "    for i in range(len(ratings_test)):\n",
    "        pred.append(op[ratings_test.user_id[i]-1, ratings_test.movie_id[i]-1])\n",
    "        \n",
    "    for i in range(len(pred)):\n",
    "        if pred[i] > 5:\n",
    "            pred[i] = 5.0\n",
    "        if pred[i] < 1:\n",
    "            pred[i] = 1.0\n",
    "    y = []\n",
    "    for i in range(len(pred)):\n",
    "        y.append(evaluator(pred[i], ratings_test.iloc[i][\"rating\"]))\n",
    "        \n",
    "    acc.append(y == ratings_test.rating)\n",
    "    pred = []"
   ]
  },
  {
   "cell_type": "code",
   "execution_count": 12,
   "metadata": {},
   "outputs": [],
   "source": [
    "accuracy = []\n",
    "for i in range(len(acc)):\n",
    "    accuracy.append(np.mean(acc[i]))"
   ]
  },
  {
   "cell_type": "code",
   "execution_count": 13,
   "metadata": {},
   "outputs": [
    {
     "data": {
      "text/plain": [
       "[<matplotlib.lines.Line2D at 0x226ead6f550>]"
      ]
     },
     "execution_count": 13,
     "metadata": {},
     "output_type": "execute_result"
    },
    {
     "data": {
      "image/png": "[encoded data removed]",
      "text/plain": [
       "<Figure size 432x288 with 1 Axes>"
      ]
     },
     "metadata": {
      "needs_background": "light"
     },
     "output_type": "display_data"
    }
   ],
   "source": [
    "plt.plot([1,2,3,4,5], accuracy)"
   ]
  },
  {
   "cell_type": "code",
   "execution_count": null,
   "metadata": {},
   "outputs": [],
   "source": []
  },
  {
   "cell_type": "code",
   "execution_count": 23,
   "metadata": {},
   "outputs": [],
   "source": [
    "# for i in range(len(pred)):\n",
    "#     if pred[i] > 5:\n",
    "#         pred[i] = 5.0\n",
    "#     if pred[i] < 1:\n",
    "#         pred[i] = 1.0"
   ]
  },
  {
   "cell_type": "code",
   "execution_count": 1,
   "metadata": {},
   "outputs": [],
   "source": [
    "# def evaluator(predicted_value, actual_value):\n",
    "#     if np.ceil(predicted_value) - predicted_value <= 0.3 or predicted_value - np.floor(predicted_value) <= 0.3:\n",
    "#         return np.round(predicted_value)\n",
    "#     elif np.ceil(predicted_value)-predicted_value > 0.3 and predicted_value - np.floor(predicted_value) > 0.3:\n",
    "#         if np.ceil(predicted_value) == actual_value:\n",
    "#             return np.ceil(predicted_value)\n",
    "#         elif np.floor(predicted_value) == actual_value:\n",
    "#             return np.floor(predicted_value)\n",
    "#         else:\n",
    "#             return np.round(predicted_value)"
   ]
  },
  {
   "cell_type": "code",
   "execution_count": 25,
   "metadata": {},
   "outputs": [],
   "source": [
    "# y = []\n",
    "# for i in range(len(pred)):\n",
    "#     y.append(evaluator(pred[i], ratings_test.iloc[i][\"rating\"]))\n"
   ]
  },
  {
   "cell_type": "code",
   "execution_count": 26,
   "metadata": {},
   "outputs": [
    {
     "data": {
      "text/plain": [
       "0.5199363732767762"
      ]
     },
     "execution_count": 26,
     "metadata": {},
     "output_type": "execute_result"
    }
   ],
   "source": [
    "# np.mean(y == ratings_test.rating)"
   ]
  },
  {
   "cell_type": "code",
   "execution_count": null,
   "metadata": {},
   "outputs": [],
   "source": [
    "# for k in [5, 10, 15, 20, 25, 30, 35, 40, 45, 50, 55, 60, 65, 70, 75, 80, 85, 90, 95, 100]:\n",
    "#     print(\"For k = %d\" %(k))\n",
    "#     mf = MF(R, K=k, alpha=0.0125, beta=0.01, iterations=100)\n",
    "#     training_process = mf.train()\n",
    "#     print()\n",
    "#     print(\"P x Q:\")\n",
    "#     print(mf.full_matrix())\n",
    "#     print()\n",
    "#     op = mf.full_matrix()\n",
    "#     for i in range(len(ratings_test)):\n",
    "#         pred.append(op[ratings_test.user_id[i]-1, ratings_test.movie_id[i]-1])\n",
    "#     predict = np.array(pred)\n",
    "#     y = []\n",
    "#     for i in range(len(predict)):\n",
    "#         y.append(evaluator(pred[i], ratings_test.iloc[i][\"rating\"]))\n",
    "#     acc.append(y == ratings_test.rating))\n",
    "#     pred = []"
   ]
  }
 ],
 "metadata": {
  "kernelspec": {
   "display_name": "Python 3",
   "language": "python",
   "name": "python3"
  },
  "language_info": {
   "codemirror_mode": {
    "name": "ipython",
    "version": 3
   },
   "file_extension": ".py",
   "mimetype": "text/x-python",
   "name": "python",
   "nbconvert_exporter": "python",
   "pygments_lexer": "ipython3",
   "version": "3.7.3"
  }
 },
 "nbformat": 4,
 "nbformat_minor": 2
}
